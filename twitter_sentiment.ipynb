{
 "cells": [
  {
   "cell_type": "code",
   "execution_count": 1,
   "id": "72a6af59",
   "metadata": {},
   "outputs": [
    {
     "name": "stderr",
     "output_type": "stream",
     "text": [
      "[nltk_data] Downloading package vader_lexicon to\n",
      "[nltk_data]     C:\\Users\\vanessa\\AppData\\Roaming\\nltk_data...\n",
      "[nltk_data]   Package vader_lexicon is already up-to-date!\n"
     ]
    }
   ],
   "source": [
    "import pandas as pd\n",
    "import matplotlib.pyplot as plt\n",
    "import nltk\n",
    "nltk.download(\"vader_lexicon\")\n",
    "from nltk.sentiment.vader import SentimentIntensityAnalyzer\n",
    "import re"
   ]
  },
  {
   "cell_type": "code",
   "execution_count": 2,
   "id": "69eb855d",
   "metadata": {},
   "outputs": [
    {
     "data": {
      "text/html": [
       "<div>\n",
       "<style scoped>\n",
       "    .dataframe tbody tr th:only-of-type {\n",
       "        vertical-align: middle;\n",
       "    }\n",
       "\n",
       "    .dataframe tbody tr th {\n",
       "        vertical-align: top;\n",
       "    }\n",
       "\n",
       "    .dataframe thead th {\n",
       "        text-align: right;\n",
       "    }\n",
       "</style>\n",
       "<table border=\"1\" class=\"dataframe\">\n",
       "  <thead>\n",
       "    <tr style=\"text-align: right;\">\n",
       "      <th></th>\n",
       "      <th>Tweet Id</th>\n",
       "      <th>Date</th>\n",
       "      <th>Hour</th>\n",
       "      <th>User Name</th>\n",
       "      <th>Nickname</th>\n",
       "      <th>Bio</th>\n",
       "      <th>Tweet content</th>\n",
       "      <th>Favs</th>\n",
       "      <th>RTs</th>\n",
       "      <th>Latitude</th>\n",
       "      <th>...</th>\n",
       "      <th>Listed</th>\n",
       "      <th>Tweet language (ISO 639-1)</th>\n",
       "      <th>Tweet Url</th>\n",
       "      <th>Is a RT</th>\n",
       "      <th>Original Tweet User Name</th>\n",
       "      <th>User Mentions</th>\n",
       "      <th>Hashtags</th>\n",
       "      <th>Symbols</th>\n",
       "      <th>Media</th>\n",
       "      <th>URLs</th>\n",
       "    </tr>\n",
       "  </thead>\n",
       "  <tbody>\n",
       "    <tr>\n",
       "      <th>0</th>\n",
       "      <td>743021277988958208</td>\n",
       "      <td>2016-06-15</td>\n",
       "      <td>10:04</td>\n",
       "      <td>bored2tears</td>\n",
       "      <td>bored2tears</td>\n",
       "      <td>Trader interested in breaking stocks, CRE, eco...</td>\n",
       "      <td>#VR hardware is here, but robust game lineup i...</td>\n",
       "      <td>1.0</td>\n",
       "      <td>NaN</td>\n",
       "      <td>47.50012</td>\n",
       "      <td>...</td>\n",
       "      <td>923.0</td>\n",
       "      <td>en</td>\n",
       "      <td>http://www.twitter.com/bored2tears/status/7430...</td>\n",
       "      <td>False</td>\n",
       "      <td>NaN</td>\n",
       "      <td>NaN</td>\n",
       "      <td>#VR,#E3,#tech</td>\n",
       "      <td>$EA,$MSFT,$SNE</td>\n",
       "      <td>http://pbs.twimg.com/media/Ck-96cBXIAAkT4I.jpg</td>\n",
       "      <td>http://twitthat.com/2u1G2</td>\n",
       "    </tr>\n",
       "    <tr>\n",
       "      <th>1</th>\n",
       "      <td>743000607397679104</td>\n",
       "      <td>2016-06-15</td>\n",
       "      <td>08:42</td>\n",
       "      <td>Ken Edwards</td>\n",
       "      <td>kenedwards_ken</td>\n",
       "      <td>NaN</td>\n",
       "      <td>OVAS Pacific Biosciences of California Inc. Ex...</td>\n",
       "      <td>NaN</td>\n",
       "      <td>NaN</td>\n",
       "      <td>NaN</td>\n",
       "      <td>...</td>\n",
       "      <td>32.0</td>\n",
       "      <td>en</td>\n",
       "      <td>http://www.twitter.com/kenedwards_ken/status/7...</td>\n",
       "      <td>False</td>\n",
       "      <td>NaN</td>\n",
       "      <td>NaN</td>\n",
       "      <td>#invest,#stock</td>\n",
       "      <td>$OVAS,$QRVO,$EA,$TMF</td>\n",
       "      <td>NaN</td>\n",
       "      <td>http://dlvr.it/LZ2VxG</td>\n",
       "    </tr>\n",
       "    <tr>\n",
       "      <th>2</th>\n",
       "      <td>742994939777286144</td>\n",
       "      <td>2016-06-15</td>\n",
       "      <td>08:19</td>\n",
       "      <td>Abu Sofyan Pabitjara</td>\n",
       "      <td>APabitjara</td>\n",
       "      <td>NaN</td>\n",
       "      <td>$EA Rf xcw€•£*cc. Ze,*$*3,r#43€•¢t,😠°==™©•√</td>\n",
       "      <td>NaN</td>\n",
       "      <td>NaN</td>\n",
       "      <td>NaN</td>\n",
       "      <td>...</td>\n",
       "      <td>NaN</td>\n",
       "      <td>es</td>\n",
       "      <td>http://www.twitter.com/APabitjara/status/74299...</td>\n",
       "      <td>False</td>\n",
       "      <td>NaN</td>\n",
       "      <td>NaN</td>\n",
       "      <td>NaN</td>\n",
       "      <td>$EA</td>\n",
       "      <td>NaN</td>\n",
       "      <td>NaN</td>\n",
       "    </tr>\n",
       "    <tr>\n",
       "      <th>3</th>\n",
       "      <td>742992053852852224</td>\n",
       "      <td>2016-06-15</td>\n",
       "      <td>08:08</td>\n",
       "      <td>JennaKingtin1978</td>\n",
       "      <td>kingtin1978</td>\n",
       "      <td>NaN</td>\n",
       "      <td>FXA CurrencyShares British Pound Sterling Trus...</td>\n",
       "      <td>NaN</td>\n",
       "      <td>NaN</td>\n",
       "      <td>NaN</td>\n",
       "      <td>...</td>\n",
       "      <td>37.0</td>\n",
       "      <td>en</td>\n",
       "      <td>http://www.twitter.com/kingtin1978/status/7429...</td>\n",
       "      <td>False</td>\n",
       "      <td>NaN</td>\n",
       "      <td>NaN</td>\n",
       "      <td>#nasdaq,#investing</td>\n",
       "      <td>$FXA,$IVOB,$EA,$HTS</td>\n",
       "      <td>NaN</td>\n",
       "      <td>http://dlvr.it/LZ1qTL</td>\n",
       "    </tr>\n",
       "    <tr>\n",
       "      <th>4</th>\n",
       "      <td>742985503641894913</td>\n",
       "      <td>2016-06-15</td>\n",
       "      <td>07:42</td>\n",
       "      <td>ezzmoney2day</td>\n",
       "      <td>ezzmoney2day</td>\n",
       "      <td>NaN</td>\n",
       "      <td>CBT Cabot Corp. Yield\\nhttps://t.co/0kL5KBx2QD...</td>\n",
       "      <td>NaN</td>\n",
       "      <td>NaN</td>\n",
       "      <td>NaN</td>\n",
       "      <td>...</td>\n",
       "      <td>38.0</td>\n",
       "      <td>en</td>\n",
       "      <td>http://www.twitter.com/ezzmoney2day/status/742...</td>\n",
       "      <td>False</td>\n",
       "      <td>NaN</td>\n",
       "      <td>NaN</td>\n",
       "      <td>#stockmarket,#nasdaq</td>\n",
       "      <td>$CBT,$EA,$SQQQ,$HXU.TO</td>\n",
       "      <td>NaN</td>\n",
       "      <td>http://dlvr.it/LZ1NHQ</td>\n",
       "    </tr>\n",
       "  </tbody>\n",
       "</table>\n",
       "<p>5 rows × 26 columns</p>\n",
       "</div>"
      ],
      "text/plain": [
       "             Tweet Id        Date   Hour             User Name  \\\n",
       "0  743021277988958208  2016-06-15  10:04           bored2tears   \n",
       "1  743000607397679104  2016-06-15  08:42           Ken Edwards   \n",
       "2  742994939777286144  2016-06-15  08:19  Abu Sofyan Pabitjara   \n",
       "3  742992053852852224  2016-06-15  08:08      JennaKingtin1978   \n",
       "4  742985503641894913  2016-06-15  07:42          ezzmoney2day   \n",
       "\n",
       "         Nickname                                                Bio  \\\n",
       "0     bored2tears  Trader interested in breaking stocks, CRE, eco...   \n",
       "1  kenedwards_ken                                                NaN   \n",
       "2      APabitjara                                                NaN   \n",
       "3     kingtin1978                                                NaN   \n",
       "4    ezzmoney2day                                                NaN   \n",
       "\n",
       "                                       Tweet content  Favs  RTs  Latitude  \\\n",
       "0  #VR hardware is here, but robust game lineup i...   1.0  NaN  47.50012   \n",
       "1  OVAS Pacific Biosciences of California Inc. Ex...   NaN  NaN       NaN   \n",
       "2        $EA Rf xcw€•£*cc. Ze,*$*3,r#43€•¢t,😠°==™©•√   NaN  NaN       NaN   \n",
       "3  FXA CurrencyShares British Pound Sterling Trus...   NaN  NaN       NaN   \n",
       "4  CBT Cabot Corp. Yield\\nhttps://t.co/0kL5KBx2QD...   NaN  NaN       NaN   \n",
       "\n",
       "   ...  Listed Tweet language (ISO 639-1)  \\\n",
       "0  ...   923.0                         en   \n",
       "1  ...    32.0                         en   \n",
       "2  ...     NaN                         es   \n",
       "3  ...    37.0                         en   \n",
       "4  ...    38.0                         en   \n",
       "\n",
       "                                           Tweet Url Is a RT  \\\n",
       "0  http://www.twitter.com/bored2tears/status/7430...   False   \n",
       "1  http://www.twitter.com/kenedwards_ken/status/7...   False   \n",
       "2  http://www.twitter.com/APabitjara/status/74299...   False   \n",
       "3  http://www.twitter.com/kingtin1978/status/7429...   False   \n",
       "4  http://www.twitter.com/ezzmoney2day/status/742...   False   \n",
       "\n",
       "   Original Tweet User Name  User Mentions              Hashtags  \\\n",
       "0                       NaN            NaN         #VR,#E3,#tech   \n",
       "1                       NaN            NaN        #invest,#stock   \n",
       "2                       NaN            NaN                   NaN   \n",
       "3                       NaN            NaN    #nasdaq,#investing   \n",
       "4                       NaN            NaN  #stockmarket,#nasdaq   \n",
       "\n",
       "                  Symbols                                           Media  \\\n",
       "0          $EA,$MSFT,$SNE  http://pbs.twimg.com/media/Ck-96cBXIAAkT4I.jpg   \n",
       "1    $OVAS,$QRVO,$EA,$TMF                                             NaN   \n",
       "2                     $EA                                             NaN   \n",
       "3     $FXA,$IVOB,$EA,$HTS                                             NaN   \n",
       "4  $CBT,$EA,$SQQQ,$HXU.TO                                             NaN   \n",
       "\n",
       "                        URLs  \n",
       "0  http://twitthat.com/2u1G2  \n",
       "1      http://dlvr.it/LZ2VxG  \n",
       "2                        NaN  \n",
       "3      http://dlvr.it/LZ1qTL  \n",
       "4      http://dlvr.it/LZ1NHQ  \n",
       "\n",
       "[5 rows x 26 columns]"
      ]
     },
     "execution_count": 2,
     "metadata": {},
     "output_type": "execute_result"
    }
   ],
   "source": [
    "path = \"./data/EA_tweets.xlsx\"\n",
    "spreadsheet = \"Stream\"\n",
    "tweets = pd.read_excel(path, sheet_name=spreadsheet)\n",
    "\n",
    "tweets.head()"
   ]
  },
  {
   "cell_type": "code",
   "execution_count": 3,
   "id": "acbb226f",
   "metadata": {},
   "outputs": [
    {
     "data": {
      "text/plain": [
       "Tweet Id                        int64\n",
       "Date                           object\n",
       "Hour                           object\n",
       "User Name                      object\n",
       "Nickname                       object\n",
       "Bio                            object\n",
       "Tweet content                  object\n",
       "Favs                          float64\n",
       "RTs                           float64\n",
       "Latitude                      float64\n",
       "Longitude                     float64\n",
       "Country                        object\n",
       "Place (as appears on Bio)      object\n",
       "Profile picture                object\n",
       "Followers                     float64\n",
       "Following                     float64\n",
       "Listed                        float64\n",
       "Tweet language (ISO 639-1)     object\n",
       "Tweet Url                      object\n",
       "Is a RT                          bool\n",
       "Original Tweet User Name       object\n",
       "User Mentions                  object\n",
       "Hashtags                       object\n",
       "Symbols                        object\n",
       "Media                          object\n",
       "URLs                           object\n",
       "dtype: object"
      ]
     },
     "execution_count": 3,
     "metadata": {},
     "output_type": "execute_result"
    }
   ],
   "source": [
    "tweets.dtypes"
   ]
  },
  {
   "cell_type": "code",
   "execution_count": 4,
   "id": "0289802c",
   "metadata": {},
   "outputs": [],
   "source": [
    "tweets[\"Date\"] = pd.to_datetime(tweets[\"Date\"], format=\"%Y-%m-%d\")"
   ]
  },
  {
   "cell_type": "code",
   "execution_count": 18,
   "id": "46895978",
   "metadata": {
    "scrolled": true
   },
   "outputs": [
    {
     "name": "stdout",
     "output_type": "stream",
     "text": [
      "2016-03-27 00:00:00\n",
      "2016-06-15 00:00:00\n"
     ]
    }
   ],
   "source": [
    "print(min(tweets.Date))\n",
    "print(max(tweets.Date))"
   ]
  },
  {
   "cell_type": "code",
   "execution_count": 5,
   "id": "8907f07e",
   "metadata": {},
   "outputs": [
    {
     "data": {
      "text/plain": [
       "array(['en', 'es', 'de', 'fi', 'nl', 'pt', 'da', 'fr', 'sv', 'it', 'ru'],\n",
       "      dtype=object)"
      ]
     },
     "execution_count": 5,
     "metadata": {},
     "output_type": "execute_result"
    }
   ],
   "source": [
    "tweets['Tweet language (ISO 639-1)'].unique()"
   ]
  },
  {
   "cell_type": "code",
   "execution_count": 6,
   "id": "8906b634",
   "metadata": {},
   "outputs": [
    {
     "data": {
      "text/plain": [
       "11"
      ]
     },
     "execution_count": 6,
     "metadata": {},
     "output_type": "execute_result"
    }
   ],
   "source": [
    "tweets['Tweet language (ISO 639-1)'].nunique()"
   ]
  },
  {
   "cell_type": "code",
   "execution_count": 7,
   "id": "2df93494",
   "metadata": {},
   "outputs": [
    {
     "data": {
      "text/plain": [
       "<AxesSubplot:title={'center':'Number of Tweets per Language'}, xlabel='Language', ylabel='Number of Tweets'>"
      ]
     },
     "execution_count": 7,
     "metadata": {},
     "output_type": "execute_result"
    },
    {
     "data": {
      "image/png": "[encoded data removed]",
      "text/plain": [
       "<Figure size 576x360 with 1 Axes>"
      ]
     },
     "metadata": {
      "needs_background": "light"
     },
     "output_type": "display_data"
    }
   ],
   "source": [
    "tweets_per_language = pd.Series(tweets['Tweet language (ISO 639-1)'].value_counts())\n",
    "\n",
    "tweets_per_language.plot(kind='bar', \n",
    "                         figsize=(8,5), \n",
    "                         title=\"Number of Tweets per Language\",\n",
    "                         xlabel=\"Language\",\n",
    "                         ylabel=\"Number of Tweets\",\n",
    "                        )"
   ]
  },
  {
   "cell_type": "code",
   "execution_count": 8,
   "id": "d46d74f4",
   "metadata": {},
   "outputs": [
    {
     "data": {
      "text/plain": [
       "en    4450\n",
       "es     440\n",
       "de      48\n",
       "nl      16\n",
       "fi      12\n",
       "da       8\n",
       "pt       6\n",
       "fr       6\n",
       "ru       6\n",
       "sv       2\n",
       "it       1\n",
       "Name: Tweet language (ISO 639-1), dtype: int64"
      ]
     },
     "execution_count": 8,
     "metadata": {},
     "output_type": "execute_result"
    }
   ],
   "source": [
    "tweets_per_language"
   ]
  },
  {
   "cell_type": "markdown",
   "id": "528c7e38",
   "metadata": {},
   "source": [
    "Twitter language is messy. The dataset contains 11 unique languages. Getting rid of URLs and user names because they don't add anything to the context of the text. Usernames usually follow an \"@\" symbol and retweets have an \"RT\" tag before the twitter handle. URLs are usually shortened code that redirect to another twitter page. I will be keeping the tickers and hashtags as they can contain information about the tweet. Preprocessing could be difficult because some tweets use symbols to replace a letter in a word (eg. J@ck, \\\\$ea$on)."
   ]
  },
  {
   "cell_type": "markdown",
   "id": "e99d8c5b",
   "metadata": {},
   "source": [
    "[Regex cheatsheet](https://quickref.me/regex)"
   ]
  },
  {
   "cell_type": "code",
   "execution_count": 9,
   "id": "5f89e7d0",
   "metadata": {
    "scrolled": true
   },
   "outputs": [],
   "source": [
    "def text_preprocess(content):\n",
    "    \"\"\"\n",
    "    Cleans the content of Tweets by removing URLs, user handles, and retweets\n",
    "    \"\"\"\n",
    "    tweets[\"cleaned_tweets\"] = tweets[\"Tweet content\"].replace(r\"https?://[a-zA-Z0-9./]*\", \"\", regex=True)\n",
    "    tweets[\"cleaned_tweets\"] = tweets[\"cleaned_tweets\"].replace(r\"\\s?RT\\s*@[a-zA-z0-9]*:\\s\", \"\", regex=True)\n",
    "    tweets[\"cleaned_tweets\"] = tweets[\"cleaned_tweets\"].replace(r\"(\\s|^|\\W)@[\\w]*\\)?\", \"\", regex=True)\n",
    "    tweets[\"cleaned_tweets\"] = tweets[\"cleaned_tweets\"].replace(r\"^\\s\\-\\s\", \"\", regex=True)\n",
    "    tweets[\"cleaned_tweets\"] = tweets[\"cleaned_tweets\"].replace(r\"\\s+\", \" \", regex=True)\n",
    "#     tweets[\"cleaned_tweets\"] = tweets[\"cleaned_tweets\"].replace(r\"([0-9]),([0-9])\", r\"\\1\\2\", regex=True)\n",
    "    tweets[\"cleaned_tweets\"] = tweets[\"cleaned_tweets\"].str.strip()\n",
    "    \n",
    "# for tweet in tweets[\"cleaned\"].values:\n",
    "#     print(tweet)\n",
    "#     print()"
   ]
  },
  {
   "cell_type": "code",
   "execution_count": 10,
   "id": "a0081ef6",
   "metadata": {},
   "outputs": [],
   "source": [
    "text_preprocess(tweets[\"Tweet content\"])"
   ]
  },
  {
   "cell_type": "code",
   "execution_count": 11,
   "id": "3e1da64f",
   "metadata": {},
   "outputs": [
    {
     "data": {
      "text/html": [
       "<div>\n",
       "<style scoped>\n",
       "    .dataframe tbody tr th:only-of-type {\n",
       "        vertical-align: middle;\n",
       "    }\n",
       "\n",
       "    .dataframe tbody tr th {\n",
       "        vertical-align: top;\n",
       "    }\n",
       "\n",
       "    .dataframe thead th {\n",
       "        text-align: right;\n",
       "    }\n",
       "</style>\n",
       "<table border=\"1\" class=\"dataframe\">\n",
       "  <thead>\n",
       "    <tr style=\"text-align: right;\">\n",
       "      <th></th>\n",
       "      <th>Date</th>\n",
       "      <th>Hour</th>\n",
       "      <th>cleaned_tweets</th>\n",
       "      <th>RTs</th>\n",
       "      <th>Followers</th>\n",
       "      <th>Tweet language (ISO 639-1)</th>\n",
       "    </tr>\n",
       "  </thead>\n",
       "  <tbody>\n",
       "    <tr>\n",
       "      <th>4990</th>\n",
       "      <td>2016-03-28</td>\n",
       "      <td>00:26</td>\n",
       "      <td>$EA there's a reason it's stalling right here....</td>\n",
       "      <td>NaN</td>\n",
       "      <td>1755.0</td>\n",
       "      <td>en</td>\n",
       "    </tr>\n",
       "    <tr>\n",
       "      <th>4991</th>\n",
       "      <td>2016-03-27</td>\n",
       "      <td>22:38</td>\n",
       "      <td>Ave. $ea$on prod ICDMAW</td>\n",
       "      <td>4.0</td>\n",
       "      <td>489.0</td>\n",
       "      <td>es</td>\n",
       "    </tr>\n",
       "    <tr>\n",
       "      <th>4992</th>\n",
       "      <td>2016-03-27</td>\n",
       "      <td>22:33</td>\n",
       "      <td>Ave. $ea$on prod ICDMAW</td>\n",
       "      <td>4.0</td>\n",
       "      <td>1024.0</td>\n",
       "      <td>es</td>\n",
       "    </tr>\n",
       "    <tr>\n",
       "      <th>4993</th>\n",
       "      <td>2016-03-27</td>\n",
       "      <td>22:26</td>\n",
       "      <td>$EA:US Oculus' Virtual Reality Headset To Laun...</td>\n",
       "      <td>NaN</td>\n",
       "      <td>2746.0</td>\n",
       "      <td>en</td>\n",
       "    </tr>\n",
       "    <tr>\n",
       "      <th>4994</th>\n",
       "      <td>2016-03-27</td>\n",
       "      <td>22:05</td>\n",
       "      <td>$EA: Electronic Arts (EA) Short Interest Discl...</td>\n",
       "      <td>NaN</td>\n",
       "      <td>737.0</td>\n",
       "      <td>en</td>\n",
       "    </tr>\n",
       "  </tbody>\n",
       "</table>\n",
       "</div>"
      ],
      "text/plain": [
       "           Date   Hour                                     cleaned_tweets  \\\n",
       "4990 2016-03-28  00:26  $EA there's a reason it's stalling right here....   \n",
       "4991 2016-03-27  22:38                            Ave. $ea$on prod ICDMAW   \n",
       "4992 2016-03-27  22:33                            Ave. $ea$on prod ICDMAW   \n",
       "4993 2016-03-27  22:26  $EA:US Oculus' Virtual Reality Headset To Laun...   \n",
       "4994 2016-03-27  22:05  $EA: Electronic Arts (EA) Short Interest Discl...   \n",
       "\n",
       "      RTs  Followers Tweet language (ISO 639-1)  \n",
       "4990  NaN     1755.0                         en  \n",
       "4991  4.0      489.0                         es  \n",
       "4992  4.0     1024.0                         es  \n",
       "4993  NaN     2746.0                         en  \n",
       "4994  NaN      737.0                         en  "
      ]
     },
     "execution_count": 11,
     "metadata": {},
     "output_type": "execute_result"
    }
   ],
   "source": [
    "cleaned_text = tweets[[\"Date\", \"Hour\", \"cleaned_tweets\", \"RTs\", \"Followers\", \"Tweet language (ISO 639-1)\"]]\n",
    "\n",
    "cleaned_text.tail()"
   ]
  },
  {
   "cell_type": "code",
   "execution_count": 12,
   "id": "98fea680",
   "metadata": {},
   "outputs": [],
   "source": [
    "cleaned_text.to_csv(\"./data/EA_tweets_cleaned.csv\", index=False)"
   ]
  },
  {
   "cell_type": "markdown",
   "id": "e3e14cbd",
   "metadata": {},
   "source": [
    "**Getting sentiment for each tweet**"
   ]
  },
  {
   "cell_type": "code",
   "execution_count": 19,
   "id": "abcbf790",
   "metadata": {},
   "outputs": [
    {
     "data": {
      "text/html": [
       "<div>\n",
       "<style scoped>\n",
       "    .dataframe tbody tr th:only-of-type {\n",
       "        vertical-align: middle;\n",
       "    }\n",
       "\n",
       "    .dataframe tbody tr th {\n",
       "        vertical-align: top;\n",
       "    }\n",
       "\n",
       "    .dataframe thead th {\n",
       "        text-align: right;\n",
       "    }\n",
       "</style>\n",
       "<table border=\"1\" class=\"dataframe\">\n",
       "  <thead>\n",
       "    <tr style=\"text-align: right;\">\n",
       "      <th></th>\n",
       "      <th>Tweet Id</th>\n",
       "      <th>Date</th>\n",
       "      <th>Hour</th>\n",
       "      <th>User Name</th>\n",
       "      <th>Nickname</th>\n",
       "      <th>Bio</th>\n",
       "      <th>Tweet content</th>\n",
       "      <th>Favs</th>\n",
       "      <th>RTs</th>\n",
       "      <th>Latitude</th>\n",
       "      <th>...</th>\n",
       "      <th>Tweet language (ISO 639-1)</th>\n",
       "      <th>Tweet Url</th>\n",
       "      <th>Is a RT</th>\n",
       "      <th>Original Tweet User Name</th>\n",
       "      <th>User Mentions</th>\n",
       "      <th>Hashtags</th>\n",
       "      <th>Symbols</th>\n",
       "      <th>Media</th>\n",
       "      <th>URLs</th>\n",
       "      <th>cleaned_tweets</th>\n",
       "    </tr>\n",
       "  </thead>\n",
       "  <tbody>\n",
       "  </tbody>\n",
       "</table>\n",
       "<p>0 rows × 27 columns</p>\n",
       "</div>"
      ],
      "text/plain": [
       "Empty DataFrame\n",
       "Columns: [Tweet Id, Date, Hour, User Name, Nickname, Bio, Tweet content, Favs, RTs, Latitude, Longitude, Country, Place (as appears on Bio), Profile picture, Followers, Following, Listed, Tweet language (ISO 639-1), Tweet Url, Is a RT, Original Tweet User Name, User Mentions, Hashtags, Symbols, Media, URLs, cleaned_tweets]\n",
       "Index: []\n",
       "\n",
       "[0 rows x 27 columns]"
      ]
     },
     "execution_count": 19,
     "metadata": {},
     "output_type": "execute_result"
    }
   ],
   "source": [
    "# empty text fields?\n",
    "# tweets[(tweets[\"cleaned_tweets\"].isnull())]\n",
    "tweets[(tweets[\"cleaned_tweets\"]==\"\")]"
   ]
  },
  {
   "cell_type": "markdown",
   "id": "c28d6bf8",
   "metadata": {},
   "source": [
    "VADER uses a scoring method that gives a score on how negative, positive, or neutral a statement is. Scoring is scaled between -1 as the most negative and +1 as most positive. Compound score is the normalized score of all the sentiments."
   ]
  },
  {
   "attachments": {
    "image.png": {
     "image/png": "[encoded data removed]"
    }
   },
   "cell_type": "markdown",
   "id": "1da1be51",
   "metadata": {},
   "source": [
    "![image.png](attachment:image.png)"
   ]
  },
  {
   "cell_type": "code",
   "execution_count": 119,
   "id": "1edad079",
   "metadata": {
    "scrolled": false
   },
   "outputs": [],
   "source": [
    "# tweets[\"cleaned_tweets\"][tweets['Tweet language (ISO 639-1)']==\"es\"].values"
   ]
  },
  {
   "cell_type": "markdown",
   "id": "7666f40b",
   "metadata": {},
   "source": [
    "- https://towardsdatascience.com/sentimental-analysis-using-vader-a3415fef7664\n",
    "- https://python.plainenglish.io/twitter-sentiment-analysis-using-vader-tweepy-b2a62fba151e"
   ]
  },
  {
   "cell_type": "code",
   "execution_count": 20,
   "id": "cbbf3a4b",
   "metadata": {},
   "outputs": [],
   "source": [
    "# TODO: function\n",
    "vader_score = SentimentIntensityAnalyzer()\n",
    "\n",
    "# def vader_sentiment():\n",
    "scores = []\n",
    "\n",
    "# Declare variables for scores\n",
    "# compound_list = []\n",
    "# positive_list = []\n",
    "# negative_list = []\n",
    "# neutral_list = []\n",
    "\n",
    "for i in range(tweets[\"cleaned_tweets\"].shape[0]):\n",
    "    #print(analyser.polarity_scores(sentiments_pd['text'][i]))\n",
    "    compound = vader_score.polarity_scores(tweets[\"cleaned_tweets\"][i])[\"compound\"]\n",
    "    pos = vader_score.polarity_scores(tweets[\"cleaned_tweets\"][i])[\"pos\"]\n",
    "    neu = vader_score.polarity_scores(tweets[\"cleaned_tweets\"][i])[\"neu\"]\n",
    "    neg = vader_score.polarity_scores(tweets[\"cleaned_tweets\"][i])[\"neg\"]\n",
    "    \n",
    "    scores.append({\"Compound\": compound,\n",
    "                   \"Positive\": pos,\n",
    "                   \"Negative\": neg,\n",
    "                   \"Neutral\": neu\n",
    "                  })"
   ]
  },
  {
   "cell_type": "code",
   "execution_count": 21,
   "id": "e05c53e8",
   "metadata": {
    "scrolled": false
   },
   "outputs": [
    {
     "data": {
      "text/html": [
       "<div>\n",
       "<style scoped>\n",
       "    .dataframe tbody tr th:only-of-type {\n",
       "        vertical-align: middle;\n",
       "    }\n",
       "\n",
       "    .dataframe tbody tr th {\n",
       "        vertical-align: top;\n",
       "    }\n",
       "\n",
       "    .dataframe thead th {\n",
       "        text-align: right;\n",
       "    }\n",
       "</style>\n",
       "<table border=\"1\" class=\"dataframe\">\n",
       "  <thead>\n",
       "    <tr style=\"text-align: right;\">\n",
       "      <th></th>\n",
       "      <th>Date</th>\n",
       "      <th>Hour</th>\n",
       "      <th>cleaned_tweets</th>\n",
       "      <th>RTs</th>\n",
       "      <th>Followers</th>\n",
       "      <th>Tweet language (ISO 639-1)</th>\n",
       "      <th>Compound</th>\n",
       "      <th>Positive</th>\n",
       "      <th>Negative</th>\n",
       "      <th>Neutral</th>\n",
       "    </tr>\n",
       "  </thead>\n",
       "  <tbody>\n",
       "    <tr>\n",
       "      <th>0</th>\n",
       "      <td>2016-06-15</td>\n",
       "      <td>10:04</td>\n",
       "      <td>#VR hardware is here, but robust game lineup i...</td>\n",
       "      <td>NaN</td>\n",
       "      <td>5172.0</td>\n",
       "      <td>en</td>\n",
       "      <td>0.4767</td>\n",
       "      <td>0.193</td>\n",
       "      <td>0.0</td>\n",
       "      <td>0.807</td>\n",
       "    </tr>\n",
       "    <tr>\n",
       "      <th>1</th>\n",
       "      <td>2016-06-15</td>\n",
       "      <td>08:42</td>\n",
       "      <td>OVAS Pacific Biosciences of California Inc. Ex...</td>\n",
       "      <td>NaN</td>\n",
       "      <td>71.0</td>\n",
       "      <td>en</td>\n",
       "      <td>0.0000</td>\n",
       "      <td>0.000</td>\n",
       "      <td>0.0</td>\n",
       "      <td>1.000</td>\n",
       "    </tr>\n",
       "    <tr>\n",
       "      <th>2</th>\n",
       "      <td>2016-06-15</td>\n",
       "      <td>08:19</td>\n",
       "      <td>$EA Rf xcw€•£*cc. Ze,*$*3,r#43€•¢t,😠°==™©•√</td>\n",
       "      <td>NaN</td>\n",
       "      <td>6.0</td>\n",
       "      <td>es</td>\n",
       "      <td>0.0000</td>\n",
       "      <td>0.000</td>\n",
       "      <td>0.0</td>\n",
       "      <td>1.000</td>\n",
       "    </tr>\n",
       "    <tr>\n",
       "      <th>3</th>\n",
       "      <td>2016-06-15</td>\n",
       "      <td>08:08</td>\n",
       "      <td>FXA CurrencyShares British Pound Sterling Trus...</td>\n",
       "      <td>NaN</td>\n",
       "      <td>86.0</td>\n",
       "      <td>en</td>\n",
       "      <td>0.5106</td>\n",
       "      <td>0.216</td>\n",
       "      <td>0.0</td>\n",
       "      <td>0.784</td>\n",
       "    </tr>\n",
       "    <tr>\n",
       "      <th>4</th>\n",
       "      <td>2016-06-15</td>\n",
       "      <td>07:42</td>\n",
       "      <td>CBT Cabot Corp. Yield $CBT $EA $SQQQ $HXU.TO #...</td>\n",
       "      <td>NaN</td>\n",
       "      <td>58.0</td>\n",
       "      <td>en</td>\n",
       "      <td>0.0000</td>\n",
       "      <td>0.000</td>\n",
       "      <td>0.0</td>\n",
       "      <td>1.000</td>\n",
       "    </tr>\n",
       "  </tbody>\n",
       "</table>\n",
       "</div>"
      ],
      "text/plain": [
       "        Date   Hour                                     cleaned_tweets  RTs  \\\n",
       "0 2016-06-15  10:04  #VR hardware is here, but robust game lineup i...  NaN   \n",
       "1 2016-06-15  08:42  OVAS Pacific Biosciences of California Inc. Ex...  NaN   \n",
       "2 2016-06-15  08:19        $EA Rf xcw€•£*cc. Ze,*$*3,r#43€•¢t,😠°==™©•√  NaN   \n",
       "3 2016-06-15  08:08  FXA CurrencyShares British Pound Sterling Trus...  NaN   \n",
       "4 2016-06-15  07:42  CBT Cabot Corp. Yield $CBT $EA $SQQQ $HXU.TO #...  NaN   \n",
       "\n",
       "   Followers Tweet language (ISO 639-1)  Compound  Positive  Negative  Neutral  \n",
       "0     5172.0                         en    0.4767     0.193       0.0    0.807  \n",
       "1       71.0                         en    0.0000     0.000       0.0    1.000  \n",
       "2        6.0                         es    0.0000     0.000       0.0    1.000  \n",
       "3       86.0                         en    0.5106     0.216       0.0    0.784  \n",
       "4       58.0                         en    0.0000     0.000       0.0    1.000  "
      ]
     },
     "execution_count": 21,
     "metadata": {},
     "output_type": "execute_result"
    }
   ],
   "source": [
    "sentiments_score = pd.DataFrame.from_dict(scores)\n",
    "cleaned_text = cleaned_text.join(sentiments_score)\n",
    "\n",
    "cleaned_text.head()"
   ]
  },
  {
   "cell_type": "code",
   "execution_count": 23,
   "id": "d5fdff72",
   "metadata": {},
   "outputs": [],
   "source": [
    "cleaned_text.to_csv(\"./data/tweets_sentiment.csv\", index=False)"
   ]
  },
  {
   "cell_type": "code",
   "execution_count": null,
   "id": "6dd5160a",
   "metadata": {},
   "outputs": [],
   "source": []
  }
 ],
 "metadata": {
  "kernelspec": {
   "display_name": "stock_sentiment",
   "language": "python",
   "name": "stock_sentiment"
  },
  "language_info": {
   "codemirror_mode": {
    "name": "ipython",
    "version": 3
   },
   "file_extension": ".py",
   "mimetype": "text/x-python",
   "name": "python",
   "nbconvert_exporter": "python",
   "pygments_lexer": "ipython3",
   "version": "3.10.4"
  }
 },
 "nbformat": 4,
 "nbformat_minor": 5
}
