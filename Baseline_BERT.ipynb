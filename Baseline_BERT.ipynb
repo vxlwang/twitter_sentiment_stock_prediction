{
 "cells": [
  {
   "cell_type": "code",
   "execution_count": 1,
   "id": "80ecdcc0",
   "metadata": {},
   "outputs": [],
   "source": [
    "import pandas as pd\n",
    "import numpy as np\n",
    "import matplotlib.pyplot as plt\n",
    "import plotly.graph_objects as go\n",
    "import math\n",
    "from sklearn.preprocessing import MinMaxScaler\n",
    "from sklearn import metrics"
   ]
  },
  {
   "cell_type": "code",
   "execution_count": 2,
   "id": "5368d08e",
   "metadata": {},
   "outputs": [],
   "source": [
    "stocks = pd.read_csv(\"./data/EA_stocks_Mar_Jun_2016.csv\")\n",
    "twitter = pd.read_csv(\"./data/EA_tweets_BERT.csv\")\n",
    "\n",
    "stocks[\"Date\"] = pd.to_datetime(stocks[\"Date\"], format=\"%Y-%m-%d\")\n",
    "twitter[\"Date\"] = pd.to_datetime(twitter[\"Date\"], format=\"%Y-%m-%d\")"
   ]
  },
  {
   "cell_type": "code",
   "execution_count": 3,
   "id": "be43ac1a",
   "metadata": {},
   "outputs": [],
   "source": [
    "twitter[\"Sentiment\"] = twitter[\"Sentiment\"].replace({0: \"Negative\", 1: \"Positive\"})"
   ]
  },
  {
   "cell_type": "code",
   "execution_count": 5,
   "id": "94bd153d",
   "metadata": {},
   "outputs": [
    {
     "data": {
      "text/html": [
       "<div>\n",
       "<style scoped>\n",
       "    .dataframe tbody tr th:only-of-type {\n",
       "        vertical-align: middle;\n",
       "    }\n",
       "\n",
       "    .dataframe tbody tr th {\n",
       "        vertical-align: top;\n",
       "    }\n",
       "\n",
       "    .dataframe thead th {\n",
       "        text-align: right;\n",
       "    }\n",
       "</style>\n",
       "<table border=\"1\" class=\"dataframe\">\n",
       "  <thead>\n",
       "    <tr style=\"text-align: right;\">\n",
       "      <th></th>\n",
       "      <th>RTs</th>\n",
       "      <th>Followers</th>\n",
       "      <th>Following</th>\n",
       "      <th>daily_pos</th>\n",
       "      <th>daily_neg</th>\n",
       "      <th>Tweet Volume</th>\n",
       "      <th>Percent Positive</th>\n",
       "      <th>Percent Negative</th>\n",
       "    </tr>\n",
       "    <tr>\n",
       "      <th>Date</th>\n",
       "      <th></th>\n",
       "      <th></th>\n",
       "      <th></th>\n",
       "      <th></th>\n",
       "      <th></th>\n",
       "      <th></th>\n",
       "      <th></th>\n",
       "      <th></th>\n",
       "    </tr>\n",
       "  </thead>\n",
       "  <tbody>\n",
       "    <tr>\n",
       "      <th>2016-03-27</th>\n",
       "      <td>4.000000</td>\n",
       "      <td>1249.000000</td>\n",
       "      <td>241.500000</td>\n",
       "      <td>4</td>\n",
       "      <td>0</td>\n",
       "      <td>4</td>\n",
       "      <td>1.000000</td>\n",
       "      <td>0.000000</td>\n",
       "    </tr>\n",
       "    <tr>\n",
       "      <th>2016-03-28</th>\n",
       "      <td>4.235294</td>\n",
       "      <td>3731.804878</td>\n",
       "      <td>1503.925000</td>\n",
       "      <td>38</td>\n",
       "      <td>3</td>\n",
       "      <td>41</td>\n",
       "      <td>0.926829</td>\n",
       "      <td>0.073171</td>\n",
       "    </tr>\n",
       "    <tr>\n",
       "      <th>2016-03-29</th>\n",
       "      <td>4.375000</td>\n",
       "      <td>4476.458333</td>\n",
       "      <td>1266.430556</td>\n",
       "      <td>62</td>\n",
       "      <td>10</td>\n",
       "      <td>72</td>\n",
       "      <td>0.861111</td>\n",
       "      <td>0.138889</td>\n",
       "    </tr>\n",
       "    <tr>\n",
       "      <th>2016-03-30</th>\n",
       "      <td>1.000000</td>\n",
       "      <td>1897.916667</td>\n",
       "      <td>636.625000</td>\n",
       "      <td>56</td>\n",
       "      <td>4</td>\n",
       "      <td>60</td>\n",
       "      <td>0.933333</td>\n",
       "      <td>0.066667</td>\n",
       "    </tr>\n",
       "    <tr>\n",
       "      <th>2016-03-31</th>\n",
       "      <td>7.125000</td>\n",
       "      <td>4840.074074</td>\n",
       "      <td>2673.846154</td>\n",
       "      <td>26</td>\n",
       "      <td>1</td>\n",
       "      <td>27</td>\n",
       "      <td>0.962963</td>\n",
       "      <td>0.037037</td>\n",
       "    </tr>\n",
       "  </tbody>\n",
       "</table>\n",
       "</div>"
      ],
      "text/plain": [
       "                 RTs    Followers    Following  daily_pos  daily_neg  \\\n",
       "Date                                                                   \n",
       "2016-03-27  4.000000  1249.000000   241.500000          4          0   \n",
       "2016-03-28  4.235294  3731.804878  1503.925000         38          3   \n",
       "2016-03-29  4.375000  4476.458333  1266.430556         62         10   \n",
       "2016-03-30  1.000000  1897.916667   636.625000         56          4   \n",
       "2016-03-31  7.125000  4840.074074  2673.846154         26          1   \n",
       "\n",
       "            Tweet Volume  Percent Positive  Percent Negative  \n",
       "Date                                                          \n",
       "2016-03-27             4          1.000000          0.000000  \n",
       "2016-03-28            41          0.926829          0.073171  \n",
       "2016-03-29            72          0.861111          0.138889  \n",
       "2016-03-30            60          0.933333          0.066667  \n",
       "2016-03-31            27          0.962963          0.037037  "
      ]
     },
     "execution_count": 5,
     "metadata": {},
     "output_type": "execute_result"
    }
   ],
   "source": [
    "daily_pos = pd.DataFrame(twitter.groupby(\"Date\").apply(lambda x: x[x[\"Sentiment\"]==\"Positive\"][\"Date\"].count()))\n",
    "daily_neg = pd.DataFrame(twitter.groupby(\"Date\").apply(lambda x: x[x[\"Sentiment\"]==\"Negative\"][\"Date\"].count()))\n",
    "daily_neu = pd.DataFrame(twitter.groupby(\"Date\").apply(lambda x: x[x[\"Sentiment\"]==\"Neutral\"][\"Date\"].count()))\n",
    "volume_per_day = pd.DataFrame(twitter.groupby(\"Date\")[\"Sentiment\"].count())\n",
    "\n",
    "twitter_copy = twitter.copy()\n",
    "twitter_copy = twitter_copy.groupby(\"Date\").mean()\n",
    "\n",
    "twitter_copy[\"daily_pos\"], twitter_copy[\"daily_neg\"], \\\n",
    "    twitter_copy[\"daily_neu\"], twitter_copy[\"Tweet Volume\"] = daily_pos, daily_neg, \\\n",
    "                                                              daily_neu, volume_per_day\n",
    "\n",
    "twitter_copy[\"Percent Positive\"] = twitter_copy[\"daily_pos\"] / twitter_copy[\"Tweet Volume\"]\n",
    "twitter_copy[\"Percent Negative\"] = twitter_copy[\"daily_neg\"] / twitter_copy[\"Tweet Volume\"]\n",
    "twitter_copy[\"Percent Neutral\"] = twitter_copy[\"daily_neu\"] / twitter_copy[\"Tweet Volume\"]\n",
    "\n",
    "to_drop = [\"daily_neu\", \"Percent Neutral\"]\n",
    "twitter_copy.drop(to_drop, axis=1, inplace=True)\n",
    "\n",
    "twitter_copy.head()                                "
   ]
  },
  {
   "cell_type": "code",
   "execution_count": 6,
   "id": "a12d2066",
   "metadata": {},
   "outputs": [],
   "source": [
    "stocks[\"high_low_pct\"] = (stocks[\"High\"] - stocks[\"Low\"]) / stocks[\"Low\"]\n",
    "stocks[\"close_open_pct\"] = (stocks[\"Close\"] - stocks[\"Open\"]) / stocks[\"Open\"]\n",
    "\n",
    "stocks = stocks.set_index(\"Date\")"
   ]
  },
  {
   "cell_type": "code",
   "execution_count": 7,
   "id": "95b50bc8",
   "metadata": {},
   "outputs": [
    {
     "data": {
      "text/html": [
       "<div>\n",
       "<style scoped>\n",
       "    .dataframe tbody tr th:only-of-type {\n",
       "        vertical-align: middle;\n",
       "    }\n",
       "\n",
       "    .dataframe tbody tr th {\n",
       "        vertical-align: top;\n",
       "    }\n",
       "\n",
       "    .dataframe thead th {\n",
       "        text-align: right;\n",
       "    }\n",
       "</style>\n",
       "<table border=\"1\" class=\"dataframe\">\n",
       "  <thead>\n",
       "    <tr style=\"text-align: right;\">\n",
       "      <th></th>\n",
       "      <th>RTs</th>\n",
       "      <th>Followers</th>\n",
       "      <th>Following</th>\n",
       "      <th>daily_pos</th>\n",
       "      <th>daily_neg</th>\n",
       "      <th>Tweet Volume</th>\n",
       "      <th>Percent Positive</th>\n",
       "      <th>Percent Negative</th>\n",
       "      <th>Open</th>\n",
       "      <th>High</th>\n",
       "      <th>Low</th>\n",
       "      <th>Close</th>\n",
       "      <th>Adj Close</th>\n",
       "      <th>Volume</th>\n",
       "      <th>high_low_pct</th>\n",
       "      <th>close_open_pct</th>\n",
       "    </tr>\n",
       "    <tr>\n",
       "      <th>Date</th>\n",
       "      <th></th>\n",
       "      <th></th>\n",
       "      <th></th>\n",
       "      <th></th>\n",
       "      <th></th>\n",
       "      <th></th>\n",
       "      <th></th>\n",
       "      <th></th>\n",
       "      <th></th>\n",
       "      <th></th>\n",
       "      <th></th>\n",
       "      <th></th>\n",
       "      <th></th>\n",
       "      <th></th>\n",
       "      <th></th>\n",
       "      <th></th>\n",
       "    </tr>\n",
       "  </thead>\n",
       "  <tbody>\n",
       "    <tr>\n",
       "      <th>2016-06-09</th>\n",
       "      <td>1.888889</td>\n",
       "      <td>5318.146341</td>\n",
       "      <td>582.216216</td>\n",
       "      <td>38</td>\n",
       "      <td>3</td>\n",
       "      <td>41</td>\n",
       "      <td>0.926829</td>\n",
       "      <td>0.073171</td>\n",
       "      <td>75.589996</td>\n",
       "      <td>76.790001</td>\n",
       "      <td>75.519997</td>\n",
       "      <td>76.250000</td>\n",
       "      <td>75.456291</td>\n",
       "      <td>3055400</td>\n",
       "      <td>0.016817</td>\n",
       "      <td>0.008731</td>\n",
       "    </tr>\n",
       "    <tr>\n",
       "      <th>2016-06-10</th>\n",
       "      <td>1.500000</td>\n",
       "      <td>3168.190476</td>\n",
       "      <td>618.394737</td>\n",
       "      <td>35</td>\n",
       "      <td>7</td>\n",
       "      <td>42</td>\n",
       "      <td>0.833333</td>\n",
       "      <td>0.166667</td>\n",
       "      <td>75.410004</td>\n",
       "      <td>76.239998</td>\n",
       "      <td>74.809998</td>\n",
       "      <td>75.279999</td>\n",
       "      <td>74.496376</td>\n",
       "      <td>3025100</td>\n",
       "      <td>0.019115</td>\n",
       "      <td>-0.001724</td>\n",
       "    </tr>\n",
       "    <tr>\n",
       "      <th>2016-06-13</th>\n",
       "      <td>1.914286</td>\n",
       "      <td>6279.806122</td>\n",
       "      <td>2645.937500</td>\n",
       "      <td>92</td>\n",
       "      <td>6</td>\n",
       "      <td>98</td>\n",
       "      <td>0.938776</td>\n",
       "      <td>0.061224</td>\n",
       "      <td>74.889999</td>\n",
       "      <td>75.430000</td>\n",
       "      <td>73.800003</td>\n",
       "      <td>74.239998</td>\n",
       "      <td>73.467216</td>\n",
       "      <td>3680300</td>\n",
       "      <td>0.022087</td>\n",
       "      <td>-0.008679</td>\n",
       "    </tr>\n",
       "    <tr>\n",
       "      <th>2016-06-14</th>\n",
       "      <td>2.428571</td>\n",
       "      <td>12440.492754</td>\n",
       "      <td>1175.173913</td>\n",
       "      <td>61</td>\n",
       "      <td>8</td>\n",
       "      <td>69</td>\n",
       "      <td>0.884058</td>\n",
       "      <td>0.115942</td>\n",
       "      <td>74.139999</td>\n",
       "      <td>74.779999</td>\n",
       "      <td>73.349998</td>\n",
       "      <td>74.519997</td>\n",
       "      <td>73.744293</td>\n",
       "      <td>2017000</td>\n",
       "      <td>0.019496</td>\n",
       "      <td>0.005125</td>\n",
       "    </tr>\n",
       "    <tr>\n",
       "      <th>2016-06-15</th>\n",
       "      <td>1.272727</td>\n",
       "      <td>2445.000000</td>\n",
       "      <td>696.312500</td>\n",
       "      <td>33</td>\n",
       "      <td>0</td>\n",
       "      <td>33</td>\n",
       "      <td>1.000000</td>\n",
       "      <td>0.000000</td>\n",
       "      <td>74.559998</td>\n",
       "      <td>75.230003</td>\n",
       "      <td>74.040001</td>\n",
       "      <td>74.389999</td>\n",
       "      <td>73.615654</td>\n",
       "      <td>2409900</td>\n",
       "      <td>0.016072</td>\n",
       "      <td>-0.002280</td>\n",
       "    </tr>\n",
       "  </tbody>\n",
       "</table>\n",
       "</div>"
      ],
      "text/plain": [
       "                 RTs     Followers    Following  daily_pos  daily_neg  \\\n",
       "Date                                                                    \n",
       "2016-06-09  1.888889   5318.146341   582.216216         38          3   \n",
       "2016-06-10  1.500000   3168.190476   618.394737         35          7   \n",
       "2016-06-13  1.914286   6279.806122  2645.937500         92          6   \n",
       "2016-06-14  2.428571  12440.492754  1175.173913         61          8   \n",
       "2016-06-15  1.272727   2445.000000   696.312500         33          0   \n",
       "\n",
       "            Tweet Volume  Percent Positive  Percent Negative       Open  \\\n",
       "Date                                                                      \n",
       "2016-06-09            41          0.926829          0.073171  75.589996   \n",
       "2016-06-10            42          0.833333          0.166667  75.410004   \n",
       "2016-06-13            98          0.938776          0.061224  74.889999   \n",
       "2016-06-14            69          0.884058          0.115942  74.139999   \n",
       "2016-06-15            33          1.000000          0.000000  74.559998   \n",
       "\n",
       "                 High        Low      Close  Adj Close   Volume  high_low_pct  \\\n",
       "Date                                                                            \n",
       "2016-06-09  76.790001  75.519997  76.250000  75.456291  3055400      0.016817   \n",
       "2016-06-10  76.239998  74.809998  75.279999  74.496376  3025100      0.019115   \n",
       "2016-06-13  75.430000  73.800003  74.239998  73.467216  3680300      0.022087   \n",
       "2016-06-14  74.779999  73.349998  74.519997  73.744293  2017000      0.019496   \n",
       "2016-06-15  75.230003  74.040001  74.389999  73.615654  2409900      0.016072   \n",
       "\n",
       "            close_open_pct  \n",
       "Date                        \n",
       "2016-06-09        0.008731  \n",
       "2016-06-10       -0.001724  \n",
       "2016-06-13       -0.008679  \n",
       "2016-06-14        0.005125  \n",
       "2016-06-15       -0.002280  "
      ]
     },
     "execution_count": 7,
     "metadata": {},
     "output_type": "execute_result"
    }
   ],
   "source": [
    "stock_sentiment = twitter_copy.merge(stocks, left_index=True, right_index=True)\n",
    "stock_sentiment.tail()"
   ]
  },
  {
   "cell_type": "markdown",
   "id": "099ccf8b",
   "metadata": {},
   "source": [
    "### XGBoost Regressor"
   ]
  },
  {
   "cell_type": "code",
   "execution_count": 8,
   "id": "d994cb1d",
   "metadata": {},
   "outputs": [],
   "source": [
    "import xgboost as xgb"
   ]
  },
  {
   "cell_type": "code",
   "execution_count": 9,
   "id": "dba4a091",
   "metadata": {},
   "outputs": [
    {
     "data": {
      "image/png": "[encoded data removed]",
      "text/plain": [
       "<Figure size 576x360 with 1 Axes>"
      ]
     },
     "metadata": {
      "needs_background": "light"
     },
     "output_type": "display_data"
    }
   ],
   "source": [
    "split = math.ceil(len(stock_sentiment) * 0.8)\n",
    "\n",
    "train = stock_sentiment[:split]\n",
    "test = stock_sentiment[split:]\n",
    "\n",
    "predictors = [\"Percent Positive\", \"Percent Negative\", \"Volume\", \"high_low_pct\", \"close_open_pct\"]\n",
    "\n",
    "scaler = MinMaxScaler()\n",
    "scaler.fit(train[predictors])\n",
    "X_train_scaled = scaler.transform(train[predictors])\n",
    "X_test_scaled = scaler.transform(test[predictors])\n",
    "\n",
    "xgb_model = xgb.XGBRegressor(objective='reg:squarederror', n_estimators=1000)\n",
    "xgb_model.fit(X_train_scaled, train[\"Close\"].values)\n",
    "closing_pred = xgb_model.predict(X_test_scaled)\n",
    "\n",
    "closing_pred = pd.Series(closing_pred, index=test.index, name=\"Closing Prediction\")\n",
    "comparison = pd.concat([test[\"Close\"], closing_pred], axis=1)\n",
    "\n",
    "comparison.plot(figsize=(8,5),\n",
    "                title=\"Actual vs Predicted Price\",\n",
    "                ylabel=\"Price (USD)\")\n",
    "plt.grid(which=\"both\", linestyle=\"--\")\n",
    "plt.show()"
   ]
  },
  {
   "cell_type": "code",
   "execution_count": 10,
   "id": "ad8f3549",
   "metadata": {},
   "outputs": [
    {
     "name": "stdout",
     "output_type": "stream",
     "text": [
      "R^2: -80.02724190620344\n",
      "Mean Squared Error: 80.41723340506643\n",
      "Mean Absolute Error: 8.379764345836293\n",
      "Root MSE: 8.967565634277031\n",
      "% MAE: 0.11042717722346373\n"
     ]
    }
   ],
   "source": [
    "def regression_metrics(y_true, yhat):\n",
    "    '''return R^2, MSE, MAE, and RMSE metrics'''\n",
    "\n",
    "    print(f'R^2: {metrics.r2_score(y_true, yhat)}')\n",
    "    print(f'Mean Squared Error: {metrics.mean_squared_error(y_true, yhat)}')\n",
    "    print(f'Mean Absolute Error: {metrics.mean_absolute_error(y_true, yhat)}')\n",
    "    print(f'Root MSE: {metrics.mean_squared_error(y_true, yhat, squared=False)}')\n",
    "    print(f'% MAE: {metrics.mean_absolute_percentage_error(y_true, yhat)}')\n",
    "\n",
    "regression_metrics(test[\"Close\"], closing_pred)"
   ]
  },
  {
   "cell_type": "markdown",
   "id": "de2e2b47",
   "metadata": {},
   "source": [
    "### SVR"
   ]
  },
  {
   "cell_type": "code",
   "execution_count": 11,
   "id": "fa609467",
   "metadata": {},
   "outputs": [],
   "source": [
    "from sklearn.svm import SVR"
   ]
  },
  {
   "cell_type": "code",
   "execution_count": 12,
   "id": "4755be48",
   "metadata": {},
   "outputs": [
    {
     "data": {
      "image/png": "[encoded data removed]",
      "text/plain": [
       "<Figure size 576x360 with 1 Axes>"
      ]
     },
     "metadata": {
      "needs_background": "light"
     },
     "output_type": "display_data"
    }
   ],
   "source": [
    "svr_model = SVR(kernel=\"rbf\")\n",
    "svr_model.fit(X_train_scaled, train[\"Close\"].values)\n",
    "closing_pred = svr_model.predict(X_test_scaled)\n",
    "\n",
    "closing_pred = pd.Series(closing_pred, index=test.index, name=\"Predicted Close\")\n",
    "\n",
    "comparison = pd.concat([test[\"Close\"], closing_pred], axis=1,)\n",
    "comparison.rename({\"Close\": \"Actual Close\"}, axis=1, inplace=True)\n",
    "\n",
    "comparison.plot(figsize=(8,5),\n",
    "                title=\"Actual vs Predicted Price\",\n",
    "                ylabel=\"Price (USD)\")\n",
    "plt.grid(which=\"both\", linestyle=\"--\")\n",
    "plt.show()"
   ]
  },
  {
   "cell_type": "code",
   "execution_count": 13,
   "id": "6333902a",
   "metadata": {},
   "outputs": [
    {
     "name": "stdout",
     "output_type": "stream",
     "text": [
      "R^2: -102.46333841998592\n",
      "Mean Squared Error: 102.68442117552054\n",
      "Mean Absolute Error: 10.076772886475517\n",
      "Root MSE: 10.133332185195576\n",
      "% MAE: 0.13271358910130004\n"
     ]
    }
   ],
   "source": [
    "regression_metrics(test[\"Close\"], closing_pred)"
   ]
  },
  {
   "cell_type": "code",
   "execution_count": null,
   "id": "570fc636",
   "metadata": {},
   "outputs": [],
   "source": []
  }
 ],
 "metadata": {
  "kernelspec": {
   "display_name": "stock_sentiment",
   "language": "python",
   "name": "stock_sentiment"
  },
  "language_info": {
   "codemirror_mode": {
    "name": "ipython",
    "version": 3
   },
   "file_extension": ".py",
   "mimetype": "text/x-python",
   "name": "python",
   "nbconvert_exporter": "python",
   "pygments_lexer": "ipython3",
   "version": "3.10.4"
  }
 },
 "nbformat": 4,
 "nbformat_minor": 5
}
